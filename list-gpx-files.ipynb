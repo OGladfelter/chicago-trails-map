{
 "cells": [
  {
   "cell_type": "code",
   "execution_count": 3,
   "id": "99a722b2",
   "metadata": {},
   "outputs": [
    {
     "data": {
      "text/plain": [
       "['Rainbow Beach Dunes Trail.gpx',\n",
       " 'Mayor Taylor Trail.gpx',\n",
       " 'Marquette Park Loop.gpx',\n",
       " 'Lincoln Park Trail.gpx',\n",
       " 'Riis (Jacob) Park Loop.gpx',\n",
       " 'Humboldt Park Lagoon and Beach Loop.gpx',\n",
       " 'Garfield Park.gpx',\n",
       " 'Horner (Henry) Park Path.gpx',\n",
       " 'Small, Medium Large Terrain Bike Loops.gpx',\n",
       " 'Clark (Richard) Park Walk.gpx',\n",
       " 'Burnside (Ambrose) Park Walk.gpx',\n",
       " 'Wilson (Frank J.) Park Loop.gpx',\n",
       " 'Cal Sag Trail .gpx',\n",
       " 'IDNR Burnham Greenway Trail.gpx',\n",
       " 'Dunham (Robert) Park Loop.gpx',\n",
       " 'Northerly Island Loop.gpx',\n",
       " '.DS_Store',\n",
       " 'Robichaux (Joseph) Park Walk.gpx',\n",
       " 'Steelworkers Park Trail.gpx',\n",
       " '312 Riverrun Path.gpx',\n",
       " 'Palmer (John McAuley) Square Park Loop.gpx',\n",
       " 'Lakeshore Path_ North Ave Beach To Navy Pier.gpx',\n",
       " 'Henry C. Palmisano Park Loop.gpx',\n",
       " 'Jackson Park Japanese Garden.gpx',\n",
       " 'West Ridge Nature Preserve.gpx',\n",
       " 'Columbia Basin, Wooded Island, Jackson Park Lagoon.gpx',\n",
       " 'Jackson Lagoon Kayak.gpx',\n",
       " 'Horner Natural Area Loop.gpx',\n",
       " 'Tuley (Murray) Park Loop.gpx',\n",
       " 'Avalon Park Loop.gpx',\n",
       " 'Washington Park North Loop.gpx',\n",
       " 'Dunbar (Paul Laurence) Park Loop.gpx',\n",
       " 'Montrose Point Bird Sanctuary.gpx',\n",
       " 'Millennium Park Trail.gpx',\n",
       " 'Chicago Riverwalk.gpx',\n",
       " 'Cornell (Paul) Square Park Walk.gpx',\n",
       " 'Pasteur Park Loop.gpx',\n",
       " 'Caldwell Woods Loop.gpx',\n",
       " 'Big Marsh Trail.gpx',\n",
       " 'Chicago Riverwalk to Grant Park.gpx',\n",
       " 'Chicago Walking Tour_ Museum and Lakefront.gpx',\n",
       " 'Navy Pier Walk.gpx',\n",
       " 'Montrose Harbor Trail.gpx',\n",
       " 'Bloomingdale Trail (The 606).gpx',\n",
       " 'Brown (Sidney) Memorial Park Walk.gpx',\n",
       " 'Shabbona Park Path.gpx',\n",
       " 'Lakefront Trail_ Jackson Park to Grant Park.gpx',\n",
       " 'Portage Park Walk.gpx',\n",
       " 'Bessemer (Henry) Park Walk.gpx',\n",
       " 'Warren Loop.gpx',\n",
       " 'Ogden (William) Park Loop.gpx',\n",
       " 'Sherman (John) Park Loop.gpx',\n",
       " 'Rainbow Beach and Park Loop.gpx',\n",
       " 'Washington Lagoon Loop.gpx',\n",
       " 'Humboldt Park Bike Loop.gpx',\n",
       " 'Columbus Park Loop.gpx',\n",
       " 'Oakdale Park Loop.gpx',\n",
       " 'McCormick Place Bird Sanctuary.gpx',\n",
       " 'Bobolink Meadow Trail.gpx',\n",
       " 'Chicago Lakefront Trail.gpx',\n",
       " 'Cole (Nat King) Park Loop.gpx',\n",
       " 'Kelvyn (William) Park Loop.gpx',\n",
       " 'Nichols Park Walk.gpx',\n",
       " 'Oz Park Loop.gpx',\n",
       " 'Rosenblum (J. Leslie) Park Loop.gpx',\n",
       " 'Mozart (Amadeus) Park Walk.gpx',\n",
       " 'La Villita Park Walk.gpx',\n",
       " 'Dan Ryan Black Paved Loop Trail.gpx',\n",
       " 'Chopin (Frederic) Park Walk.gpx',\n",
       " 'Dixon (Lorraine) Park Path.gpx',\n",
       " 'South Shore Nature Sanctuary Loop.gpx',\n",
       " 'Oriole Walking Trail.gpx',\n",
       " 'Ping Tom Memorial Park Loop.gpx',\n",
       " 'McKinley Park Lagoon Path.gpx',\n",
       " 'Burnham Promontory Point Loop.gpx',\n",
       " \"Merrimac Park Veterans' Memorial Loop.gpx\",\n",
       " 'Owens (Jesse) Park Walk.gpx',\n",
       " 'Des Plaines River Trail.gpx',\n",
       " 'Amundsen (Roald) Park Walk.gpx',\n",
       " 'Calumet Beach Trail.gpx',\n",
       " 'Kelly (Edward) Park Walk.gpx',\n",
       " 'Hamilton Park Walk.gpx',\n",
       " 'Senka (Edward Duke) Park Loop.gpx']"
      ]
     },
     "execution_count": 3,
     "metadata": {},
     "output_type": "execute_result"
    }
   ],
   "source": [
    "import os\n",
    "os.listdir('data') # copy and paste this result into script.js"
   ]
  }
 ],
 "metadata": {
  "kernelspec": {
   "display_name": "Python 3",
   "language": "python",
   "name": "python3"
  },
  "language_info": {
   "codemirror_mode": {
    "name": "ipython",
    "version": 3
   },
   "file_extension": ".py",
   "mimetype": "text/x-python",
   "name": "python",
   "nbconvert_exporter": "python",
   "pygments_lexer": "ipython3",
   "version": "3.8.8"
  }
 },
 "nbformat": 4,
 "nbformat_minor": 5
}
